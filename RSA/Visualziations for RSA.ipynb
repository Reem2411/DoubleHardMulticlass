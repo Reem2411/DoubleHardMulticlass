{
 "cells": [
  {
   "cell_type": "code",
   "execution_count": 1,
   "metadata": {
    "pycharm": {
     "is_executing": true
    }
   },
   "outputs": [],
   "source": [
    "import matplotlib.pyplot as plt\n",
    "import numpy as np\n",
    "import string \n",
    "from utils import get_RSA3 \n",
    "%matplotlib inline"
   ]
  },
  {
   "cell_type": "code",
   "execution_count": 2,
   "metadata": {},
   "outputs": [],
   "source": [
    "import os\n",
    "curr_dr = os.getcwd() "
   ]
  },
  {
   "cell_type": "markdown",
   "metadata": {},
   "source": [
    "## Biased embeddings RSA scores"
   ]
  },
  {
   "cell_type": "markdown",
   "metadata": {},
   "source": [
    "#### Word2Vec"
   ]
  },
  {
   "cell_type": "code",
   "execution_count": 3,
   "metadata": {
    "scrolled": false
   },
   "outputs": [
    {
     "name": "stdout",
     "output_type": "stream",
     "text": [
      "White_Concept\n",
      "word idx matrices created\n",
      "matrices created\n",
      "embeds generated\n",
      "RSA White_Stereotypes White_Concept: 0.12601123664187192 STD: 0.09348660582236677\n",
      "RSA Asian_Stereotypes White_Concept: -0.06747908920061463 STD: 0.05865025172258091\n",
      "RSA Black_Stereotypes White_Concept: 0.08413958253825685 STD: 0.07410624345422678\n",
      "Sign Test White_Stereotypes vs. Asian_Stereotypes: 3.773842968353189e-21\n",
      "Sign Test White_Stereotypes vs. Black_Stereotypes: 0.0035176417229701613\n",
      "Sign Test Black_Stereotypes vs. Asian_Stereotypes: 2.7261437328060387e-20\n",
      "\n",
      "Asian_Concept\n",
      "word idx matrices created\n",
      "matrices created\n",
      "embeds generated\n",
      "RSA White_Stereotypes Asian_Concept: 0.11285499997788055 STD: 0.053854030028731854\n",
      "RSA Asian_Stereotypes Asian_Concept: 0.034090018161897724 STD: 0.034212804230316106\n",
      "RSA Black_Stereotypes Asian_Concept: 0.06243847465273546 STD: 0.06240921929979027\n",
      "Sign Test White_Stereotypes vs. Asian_Stereotypes: 3.3697570742087653e-15\n",
      "Sign Test White_Stereotypes vs. Black_Stereotypes: 0.0004087771674268151\n",
      "Sign Test Black_Stereotypes vs. Asian_Stereotypes: 0.05688793364098078\n",
      "\n",
      "Black_Concept\n",
      "word idx matrices created\n",
      "matrices created\n",
      "embeds generated\n",
      "RSA White_Stereotypes Black_Concept: 0.1424874058537299 STD: 0.07577160745737327\n",
      "RSA Asian_Stereotypes Black_Concept: -0.058992288116958454 STD: 0.06268408178872392\n",
      "RSA Black_Stereotypes Black_Concept: 0.14213557332377813 STD: 0.0681125287901896\n",
      "Sign Test White_Stereotypes vs. Asian_Stereotypes: 7.969072864542664e-27\n",
      "Sign Test White_Stereotypes vs. Black_Stereotypes: 0.6172994135892526\n",
      "Sign Test Black_Stereotypes vs. Asian_Stereotypes: 3.773842968353189e-21\n",
      "\n"
     ]
    }
   ],
   "source": [
    "w2v_biased =  get_RSA3(curr_dr+'/data/Word_Data_race.xlsx', \n",
    "        curr_dr  + \"/data/data_vocab_race_pre_trained.w2v\", 50)"
   ]
  },
  {
   "cell_type": "markdown",
   "metadata": {},
   "source": [
    "## Hard Debiased embeddings RSA scores"
   ]
  },
  {
   "cell_type": "markdown",
   "metadata": {},
   "source": [
    "#### Word2Vec"
   ]
  },
  {
   "cell_type": "code",
   "execution_count": 4,
   "metadata": {},
   "outputs": [
    {
     "name": "stdout",
     "output_type": "stream",
     "text": [
      "White_Concept\n",
      "word idx matrices created\n",
      "matrices created\n",
      "embeds generated\n",
      "RSA White_Stereotypes White_Concept: 0.1238289937697884 STD: 0.0781087846403179\n",
      "RSA Asian_Stereotypes White_Concept: -0.08950868443678434 STD: 0.05774204126070536\n",
      "RSA Black_Stereotypes White_Concept: 0.027468726754635787 STD: 0.0696262198509664\n",
      "Sign Test White_Stereotypes vs. Asian_Stereotypes: 1.5777218104420236e-30\n",
      "Sign Test White_Stereotypes vs. Black_Stereotypes: 6.147806615047975e-11\n",
      "Sign Test Black_Stereotypes vs. Asian_Stereotypes: 1.5777218104420236e-30\n",
      "\n",
      "Asian_Concept\n",
      "word idx matrices created\n",
      "matrices created\n",
      "embeds generated\n",
      "RSA White_Stereotypes Asian_Concept: 0.0658219213552297 STD: 0.04621228338515963\n",
      "RSA Asian_Stereotypes Asian_Concept: -0.038843174438145577 STD: 0.044599244424689384\n",
      "RSA Black_Stereotypes Asian_Concept: 0.05526282925496189 STD: 0.05223092262577145\n",
      "Sign Test White_Stereotypes vs. Asian_Stereotypes: 1.5777218104420236e-30\n",
      "Sign Test White_Stereotypes vs. Black_Stereotypes: 0.4841184136072908\n",
      "Sign Test Black_Stereotypes vs. Asian_Stereotypes: 6.449688895763541e-24\n",
      "\n",
      "Black_Concept\n",
      "word idx matrices created\n",
      "matrices created\n",
      "embeds generated\n",
      "RSA White_Stereotypes Black_Concept: 0.08993185982274295 STD: 0.07766395943426618\n",
      "RSA Asian_Stereotypes Black_Concept: -0.1097059908352189 STD: 0.053433529042529015\n",
      "RSA Black_Stereotypes Black_Concept: 0.017348257058779674 STD: 0.05960737629744171\n",
      "Sign Test White_Stereotypes vs. Asian_Stereotypes: 1.5777218104420236e-30\n",
      "Sign Test White_Stereotypes vs. Black_Stereotypes: 1.810002621302925e-07\n",
      "Sign Test Black_Stereotypes vs. Asian_Stereotypes: 1.5777218104420236e-30\n",
      "\n"
     ]
    }
   ],
   "source": [
    "w2v_hd_final = get_RSA3( curr_dr + '/data/Word_Data_race.xlsx', \n",
    "        curr_dr + \"/data/harddebiased.w2v\", 50)"
   ]
  },
  {
   "cell_type": "markdown",
   "metadata": {},
   "source": [
    "### Double Hard Debiased embeddings RSA scores"
   ]
  },
  {
   "cell_type": "markdown",
   "metadata": {},
   "source": [
    "#### Word2Vec"
   ]
  },
  {
   "cell_type": "code",
   "execution_count": 5,
   "metadata": {},
   "outputs": [
    {
     "name": "stdout",
     "output_type": "stream",
     "text": [
      "White_Concept\n",
      "word idx matrices created\n",
      "matrices created\n",
      "embeds generated\n",
      "RSA White_Stereotypes White_Concept: 0.11971321093126785 STD: 0.06162964427029418\n",
      "RSA Asian_Stereotypes White_Concept: -0.07937315632058758 STD: 0.05460291924426641\n",
      "RSA Black_Stereotypes White_Concept: 0.027966587762732153 STD: 0.05635143262272475\n",
      "Sign Test White_Stereotypes vs. Asian_Stereotypes: 1.5777218104420236e-30\n",
      "Sign Test White_Stereotypes vs. Black_Stereotypes: 1.3129815522035845e-14\n",
      "Sign Test Black_Stereotypes vs. Asian_Stereotypes: 1.5777218104420236e-30\n",
      "\n",
      "Asian_Concept\n",
      "word idx matrices created\n",
      "matrices created\n",
      "embeds generated\n",
      "RSA White_Stereotypes Asian_Concept: 0.08412127715070702 STD: 0.04487762396314863\n",
      "RSA Asian_Stereotypes Asian_Concept: -0.07594907075729573 STD: 0.04750319041327509\n",
      "RSA Black_Stereotypes Asian_Concept: 0.024485780493285297 STD: 0.0490234049055148\n",
      "Sign Test White_Stereotypes vs. Asian_Stereotypes: 1.5777218104420236e-30\n",
      "Sign Test White_Stereotypes vs. Black_Stereotypes: 2.7027625220487873e-10\n",
      "Sign Test Black_Stereotypes vs. Asian_Stereotypes: 1.5934990285464443e-28\n",
      "\n",
      "Black_Concept\n",
      "word idx matrices created\n",
      "matrices created\n",
      "embeds generated\n",
      "RSA White_Stereotypes Black_Concept: 0.08579537784812018 STD: 0.06886469586857848\n",
      "RSA Asian_Stereotypes Black_Concept: -0.11504185730377305 STD: 0.05527583349742683\n",
      "RSA Black_Stereotypes Black_Concept: -0.019027474724284073 STD: 0.05374363885617287\n",
      "Sign Test White_Stereotypes vs. Asian_Stereotypes: 1.5777218104420236e-30\n",
      "Sign Test White_Stereotypes vs. Black_Stereotypes: 6.449688895763541e-24\n",
      "Sign Test Black_Stereotypes vs. Asian_Stereotypes: 1.5777218104420236e-30\n",
      "\n"
     ]
    }
   ],
   "source": [
    "w2v_dhd_final = get_RSA3(curr_dr + '/data/Word_Data_race.xlsx', \n",
    "        curr_dr + \"/data/doubleharddebiased.w2v\", 50)"
   ]
  },
  {
   "cell_type": "markdown",
   "metadata": {},
   "source": [
    "## Visualizations"
   ]
  },
  {
   "cell_type": "code",
   "execution_count": 6,
   "metadata": {},
   "outputs": [],
   "source": [
    "results = []\n",
    "for lis in w2v_biased: \n",
    "    lis.append(lis[1][0]+\"S_\"+lis[2][0]+\"C\")\n",
    "    lis.append(\"Biased\")\n",
    "    results.append(lis)\n",
    "for lis in w2v_hd_final: \n",
    "    lis.append(lis[1][0]+\"S_\"+lis[2][0]+\"C\")\n",
    "    lis.append(\"Hard Debiased\")\n",
    "    results.append(lis)\n",
    "for lis in w2v_dhd_final: \n",
    "    lis.append(lis[1][0]+\"S_\"+lis[2][0]+\"C\")\n",
    "    lis.append(\"Double Hard Debiased\")\n",
    "    results.append(lis)"
   ]
  },
  {
   "cell_type": "code",
   "execution_count": 7,
   "metadata": {},
   "outputs": [],
   "source": [
    "import pandas as pd\n",
    "df = pd.DataFrame(results,\n",
    "                       columns=['RSA', 'Stereotypes', 'Concept', 'Stereotypes and Concept', 'Bias' ])"
   ]
  },
  {
   "cell_type": "code",
   "execution_count": 8,
   "metadata": {},
   "outputs": [
    {
     "data": {
      "image/png": "[encoded data removed]",
      "text/plain": [
       "<Figure size 720x720 with 1 Axes>"
      ]
     },
     "metadata": {
      "needs_background": "light"
     },
     "output_type": "display_data"
    }
   ],
   "source": [
    "import seaborn as sns\n",
    "\n",
    "fig, ax = plt.subplots(figsize=(10, 10))\n",
    "plt.suptitle(\n",
    "    \"RSA results across different race concepts based on Biased, Hard Debiased, and Double Hard Debiased Embeddings\",\n",
    "    fontsize=14,\n",
    ")\n",
    "ax = sns.barplot(x=\"Stereotypes and Concept\", y=\"RSA\", hue=\"Bias\", data=df)\n",
    "plt.tight_layout()\n",
    "plt.show()"
   ]
  }
 ],
 "metadata": {
  "kernelspec": {
   "display_name": "Python 3",
   "language": "python",
   "name": "python3"
  },
  "language_info": {
   "codemirror_mode": {
    "name": "ipython",
    "version": 3
   },
   "file_extension": ".py",
   "mimetype": "text/x-python",
   "name": "python",
   "nbconvert_exporter": "python",
   "pygments_lexer": "ipython3",
   "version": "3.8.8"
  }
 },
 "nbformat": 4,
 "nbformat_minor": 1
}
